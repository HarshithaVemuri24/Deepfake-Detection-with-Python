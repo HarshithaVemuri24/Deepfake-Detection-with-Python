{
  "nbformat": 4,
  "nbformat_minor": 0,
  "metadata": {
    "colab": {
      "provenance": []
    },
    "kernelspec": {
      "name": "python3",
      "display_name": "Python 3"
    },
    "language_info": {
      "name": "python"
    }
  },
  "cells": [
    {
      "cell_type": "code",
      "execution_count": null,
      "metadata": {
        "id": "oApewwMX9fqh"
      },
      "outputs": [],
      "source": [
        "import numpy as np\n",
        "import matplotlib.pyplot as plt\n",
        "import cv2\n",
        "import pandas as pd\n",
        "import glob2\n",
        "import os, fnmatch\n",
        "from pathlib import Path\n",
        "# import mtcnn\n",
        "from mtcnn.mtcnn import MTCNN"
      ]
    },
    {
      "cell_type": "code",
      "source": [
        "def extract_multiple_videos(intput_filenames, image_path_infile):\n",
        "    \"\"\"Extract video files into sequence of images.\"\"\"\n",
        "i = 1  # Counter of first video\n",
        "# Iterate file names:\n",
        "    cap = cv2.VideoCapture('your_video_file_path.avi' or intput_filenames)\n",
        "if (cap.isOpened()== False):\n",
        "        print(\"Error opening file\")\n",
        "# Keep iterating break\n",
        "    while True:\n",
        "        ret, frame = cap.read()  # Read frame from first video\n",
        "            \n",
        "        if ret:\n",
        "            cv2.imwrite(os.path.join(image_path_infile , str(i) + '.jpg'), frame)  # Write frame to JPEG file (1.jpg, 2.jpg, ...)\n",
        "# you can uncomment this line if you want to view them.\n",
        "#           cv2.imshow('frame', frame)  # Display frame for testing\n",
        "            i += 1 # Advance file counter\n",
        "        else:\n",
        "            # Break the interal loop when res status is False.\n",
        "            break\n",
        "cv2.waitKey(50) #Wait 50msec\n",
        "cap.release()"
      ],
      "metadata": {
        "id": "STJen5N09k3B"
      },
      "execution_count": null,
      "outputs": []
    },
    {
      "cell_type": "code",
      "source": [
        "extract_multiple_videos(fake_video_name, fake_image_path_for_frame)\n",
        "extract_multiple_videos(real_video_name, real_image_path_for_frame)"
      ],
      "metadata": {
        "id": "2Gv9leYG9lEG"
      },
      "execution_count": null,
      "outputs": []
    },
    {
      "cell_type": "code",
      "source": [
        "from skimage import measure\n",
        "def mse(imageA, imageB):\n",
        "    # the 'Mean Squared Error' between the two images is the\n",
        "    # sum of the squared difference between the two images;\n",
        "    # NOTE: the two images must have the same dimension\n",
        "    err = np.sum((imageA.astype(\"float\") - imageB.astype(\"float\")) ** 2)\n",
        "    err /= float(imageA.shape[0] * imageA.shape[1])\n",
        "# return the MSE, the lower the error, the more \"similar\"\n",
        "    # the two images are\n",
        "    return err\n",
        "def compare_images(imageA, imageB, title):\n",
        "    # compute the mean squared error and structural similarity\n",
        "    # index for the images\n",
        "    m = mse(imageA, imageB)\n",
        "    s = measure.compare_ssim(imageA, imageB)\n",
        "    # setup the figure\n",
        "    fig = plt.figure(title)\n",
        "    plt.suptitle(\"MSE: %.2f, SSIM: %.2f\" % (m, s))\n",
        "    # show first image\n",
        "    ax = fig.add_subplot(1, 2, 1)\n",
        "    plt.imshow(imageA, cmap = plt.cm.gray)\n",
        "    plt.axis(\"off\")\n",
        "    # show the second image\n",
        "    ax = fig.add_subplot(1, 2, 2)\n",
        "    plt.imshow(imageB, cmap = plt.cm.gray)\n",
        "    plt.axis(\"off\")\n",
        "    # show the images\n",
        "    plt.show()"
      ],
      "metadata": {
        "id": "S0j9SXc09lRO"
      },
      "execution_count": null,
      "outputs": []
    },
    {
      "cell_type": "code",
      "source": [],
      "metadata": {
        "id": "Js1WQJhR9lUY"
      },
      "execution_count": null,
      "outputs": []
    }
  ]
}